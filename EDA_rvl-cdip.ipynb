{
 "cells": [
  {
   "cell_type": "markdown",
   "metadata": {
    "colab_type": "text",
    "id": "b_3BU1RIAoha"
   },
   "source": [
    "# **Downloading Data**"
   ]
  },
  {
   "cell_type": "code",
   "execution_count": 1,
   "metadata": {
    "colab": {
     "base_uri": "https://localhost:8080/",
     "height": 224
    },
    "colab_type": "code",
    "id": "bYlxRCGQ5E4w",
    "outputId": "10254235-7565-4d30-99e8-6fe1c97290a0"
   },
   "outputs": [
    {
     "name": "stdout",
     "output_type": "stream",
     "text": [
      "--2019-11-15 07:09:37--  https://doc-0g-68-docs.googleusercontent.com/docs/securesc/t927msa9aomceink3i5h96e7q5483raf/oq45q1tgsmt4e046d6ka3gdh458k2jr1/1573797600000/18137660436632322230/06797348977280964480/0Bz1dfcnrpXM-MUt4cHNzUEFXcmc?e=download&authuser=0&nonce=idt9ut1lb1fo6&user=06797348977280964480&hash=6kcc6866k3n7cu4uobdd9pk7hbdqvq29\n",
      "Resolving doc-0g-68-docs.googleusercontent.com (doc-0g-68-docs.googleusercontent.com)... 74.125.23.132, 2404:6800:4008:c02::84\n",
      "Connecting to doc-0g-68-docs.googleusercontent.com (doc-0g-68-docs.googleusercontent.com)|74.125.23.132|:443... connected.\n",
      "HTTP request sent, awaiting response... 200 OK\n",
      "Length: unspecified [application/x-gzip]\n",
      "Saving to: ‘rvl-cdip.tar.gz’\n",
      "\n",
      "rvl-cdip.tar.gz         [  <=>               ]  36.10G  85.8MB/s    in 7m 1s   \n",
      "\n",
      "2019-11-15 07:16:39 (87.9 MB/s) - ‘rvl-cdip.tar.gz’ saved [38762320458]\n",
      "\n"
     ]
    }
   ],
   "source": [
    "!wget --header=\"Host: doc-0g-68-docs.googleusercontent.com\" --header=\"User-Agent: Mozilla/5.0 (Windows NT 10.0; Win64; x64) AppleWebKit/537.36 (KHTML, like Gecko) Chrome/78.0.3904.97 Safari/537.36\" --header=\"Accept: text/html,application/xhtml+xml,application/xml;q=0.9,image/webp,image/apng,*/*;q=0.8,application/signed-exchange;v=b3\" --header=\"Accept-Language: en-IN,en-GB;q=0.9,en-US;q=0.8,en;q=0.7,hi;q=0.6\" --header=\"Referer: https://docs.google.com/uc?id=0Bz1dfcnrpXM-MUt4cHNzUEFXcmc&export=download\" --header=\"Cookie: AUTH_bbebqfqqlbtlmtum1e2p5hui8kvhh83m_nonce=idt9ut1lb1fo6\" --header=\"Connection: keep-alive\" \"https://doc-0g-68-docs.googleusercontent.com/docs/securesc/t927msa9aomceink3i5h96e7q5483raf/oq45q1tgsmt4e046d6ka3gdh458k2jr1/1573797600000/18137660436632322230/06797348977280964480/0Bz1dfcnrpXM-MUt4cHNzUEFXcmc?e=download&authuser=0&nonce=idt9ut1lb1fo6&user=06797348977280964480&hash=6kcc6866k3n7cu4uobdd9pk7hbdqvq29\" -O \"rvl-cdip.tar.gz\" -c"
   ]
  },
  {
   "cell_type": "code",
   "execution_count": 0,
   "metadata": {
    "colab": {},
    "colab_type": "code",
    "id": "yVPXVUC37N36"
   },
   "outputs": [],
   "source": [
    "import shutil\n",
    "import pandas as pd\n",
    "import os\n",
    "import numpy as np\n",
    "import csv\n",
    "\n",
    "shutil.unpack_archive('rvl-cdip.tar.gz','data')"
   ]
  },
  {
   "cell_type": "code",
   "execution_count": null,
   "metadata": {},
   "outputs": [],
   "source": []
  },
  {
   "cell_type": "markdown",
   "metadata": {
    "colab_type": "text",
    "id": "ukcET5ir_Qjv"
   },
   "source": [
    "# **EDA**"
   ]
  },
  {
   "cell_type": "code",
   "execution_count": 3,
   "metadata": {
    "colab": {
     "base_uri": "https://localhost:8080/",
     "height": 204
    },
    "colab_type": "code",
    "id": "nsrFE3Ep-yUu",
    "outputId": "3b922c1b-659c-4dc7-e772-12c4f74eeb16"
   },
   "outputs": [
    {
     "data": {
      "text/html": [
       "<div>\n",
       "<style scoped>\n",
       "    .dataframe tbody tr th:only-of-type {\n",
       "        vertical-align: middle;\n",
       "    }\n",
       "\n",
       "    .dataframe tbody tr th {\n",
       "        vertical-align: top;\n",
       "    }\n",
       "\n",
       "    .dataframe thead th {\n",
       "        text-align: right;\n",
       "    }\n",
       "</style>\n",
       "<table border=\"1\" class=\"dataframe\">\n",
       "  <thead>\n",
       "    <tr style=\"text-align: right;\">\n",
       "      <th></th>\n",
       "      <th>0</th>\n",
       "    </tr>\n",
       "  </thead>\n",
       "  <tbody>\n",
       "    <tr>\n",
       "      <th>0</th>\n",
       "      <td>imagesq/q/o/c/qoc54c00/80035521.tif 15</td>\n",
       "    </tr>\n",
       "    <tr>\n",
       "      <th>1</th>\n",
       "      <td>imagese/e/w/c/ewc23d00/513280028.tif 1</td>\n",
       "    </tr>\n",
       "    <tr>\n",
       "      <th>2</th>\n",
       "      <td>imagesw/w/b/t/wbt26e00/2053453161.tif 7</td>\n",
       "    </tr>\n",
       "    <tr>\n",
       "      <th>3</th>\n",
       "      <td>imagesm/m/k/m/mkm05e00/2040792992_2040792994.t...</td>\n",
       "    </tr>\n",
       "    <tr>\n",
       "      <th>4</th>\n",
       "      <td>imageso/o/e/x/oex80d00/522787731+-7732.tif 3</td>\n",
       "    </tr>\n",
       "  </tbody>\n",
       "</table>\n",
       "</div>"
      ],
      "text/plain": [
       "                                                   0\n",
       "0             imagesq/q/o/c/qoc54c00/80035521.tif 15\n",
       "1             imagese/e/w/c/ewc23d00/513280028.tif 1\n",
       "2            imagesw/w/b/t/wbt26e00/2053453161.tif 7\n",
       "3  imagesm/m/k/m/mkm05e00/2040792992_2040792994.t...\n",
       "4       imageso/o/e/x/oex80d00/522787731+-7732.tif 3"
      ]
     },
     "execution_count": 3,
     "metadata": {
      "tags": []
     },
     "output_type": "execute_result"
    }
   ],
   "source": [
    "txtfile = r\"data/labels/train.txt\"\n",
    "csvfile = r\"train.csv\"\n",
    "with open(txtfile, 'r') as infile, open(csvfile, 'w') as outfile:\n",
    "        stripped = (line.strip() for line in infile)\n",
    "        lines = (line.split(\",\") for line in stripped if line)\n",
    "        writer = csv.writer(outfile)\n",
    "        writer.writerows(lines)\n",
    "        \n",
    "#Loading data\n",
    "df=pd.read_csv(\"train.csv\",header=None)\n",
    "df.head()"
   ]
  },
  {
   "cell_type": "code",
   "execution_count": 4,
   "metadata": {
    "colab": {
     "base_uri": "https://localhost:8080/",
     "height": 204
    },
    "colab_type": "code",
    "id": "vN_pBIOl-1x1",
    "outputId": "346e012b-a305-4728-c35c-943657a751c0"
   },
   "outputs": [
    {
     "data": {
      "text/html": [
       "<div>\n",
       "<style scoped>\n",
       "    .dataframe tbody tr th:only-of-type {\n",
       "        vertical-align: middle;\n",
       "    }\n",
       "\n",
       "    .dataframe tbody tr th {\n",
       "        vertical-align: top;\n",
       "    }\n",
       "\n",
       "    .dataframe thead th {\n",
       "        text-align: right;\n",
       "    }\n",
       "</style>\n",
       "<table border=\"1\" class=\"dataframe\">\n",
       "  <thead>\n",
       "    <tr style=\"text-align: right;\">\n",
       "      <th></th>\n",
       "      <th>image</th>\n",
       "      <th>class</th>\n",
       "    </tr>\n",
       "  </thead>\n",
       "  <tbody>\n",
       "    <tr>\n",
       "      <th>0</th>\n",
       "      <td>imagesq/q/o/c/qoc54c00/80035521.tif</td>\n",
       "      <td>15</td>\n",
       "    </tr>\n",
       "    <tr>\n",
       "      <th>1</th>\n",
       "      <td>imagese/e/w/c/ewc23d00/513280028.tif</td>\n",
       "      <td>1</td>\n",
       "    </tr>\n",
       "    <tr>\n",
       "      <th>2</th>\n",
       "      <td>imagesw/w/b/t/wbt26e00/2053453161.tif</td>\n",
       "      <td>7</td>\n",
       "    </tr>\n",
       "    <tr>\n",
       "      <th>3</th>\n",
       "      <td>imagesm/m/k/m/mkm05e00/2040792992_2040792994.tif</td>\n",
       "      <td>10</td>\n",
       "    </tr>\n",
       "    <tr>\n",
       "      <th>4</th>\n",
       "      <td>imageso/o/e/x/oex80d00/522787731+-7732.tif</td>\n",
       "      <td>3</td>\n",
       "    </tr>\n",
       "  </tbody>\n",
       "</table>\n",
       "</div>"
      ],
      "text/plain": [
       "                                              image class\n",
       "0               imagesq/q/o/c/qoc54c00/80035521.tif    15\n",
       "1              imagese/e/w/c/ewc23d00/513280028.tif     1\n",
       "2             imagesw/w/b/t/wbt26e00/2053453161.tif     7\n",
       "3  imagesm/m/k/m/mkm05e00/2040792992_2040792994.tif    10\n",
       "4        imageso/o/e/x/oex80d00/522787731+-7732.tif     3"
      ]
     },
     "execution_count": 4,
     "metadata": {
      "tags": []
     },
     "output_type": "execute_result"
    }
   ],
   "source": [
    "#naming columns in data\n",
    "df.columns=['image']\n",
    "\n",
    "#Splitting the column into 2 columns image and class using space ' ' as delimiter\n",
    "df = pd.DataFrame(df['image'].str.split(' ',1).tolist(),\n",
    "                                   columns = ['image','class'])\n",
    "df.head()"
   ]
  },
  {
   "cell_type": "code",
   "execution_count": 0,
   "metadata": {
    "colab": {},
    "colab_type": "code",
    "id": "LMpBCAvy-4eV"
   },
   "outputs": [],
   "source": [
    "#saving that to csv file\n",
    "df.to_csv('train.csv')"
   ]
  },
  {
   "cell_type": "code",
   "execution_count": 0,
   "metadata": {
    "colab": {},
    "colab_type": "code",
    "id": "cplmqo_Y-8hc"
   },
   "outputs": [],
   "source": [
    "#changing datatypes fpr easy use\n",
    "df['image']=df['image'].astype(str)\n",
    "df['class']=df['class'].astype(int)"
   ]
  },
  {
   "cell_type": "code",
   "execution_count": 0,
   "metadata": {
    "colab": {},
    "colab_type": "code",
    "id": "nrOhLCRL-_Fn"
   },
   "outputs": [],
   "source": [
    "os.chdir(\"data\")"
   ]
  },
  {
   "cell_type": "code",
   "execution_count": 0,
   "metadata": {
    "colab": {},
    "colab_type": "code",
    "id": "lFKJ_1oI_A99"
   },
   "outputs": [],
   "source": [
    "os.mkdir(\"train\")"
   ]
  },
  {
   "cell_type": "code",
   "execution_count": 0,
   "metadata": {
    "colab": {},
    "colab_type": "code",
    "id": "xNfuqsa9_DCW"
   },
   "outputs": [],
   "source": [
    "os.chdir(\"train\")"
   ]
  },
  {
   "cell_type": "code",
   "execution_count": 0,
   "metadata": {
    "colab": {},
    "colab_type": "code",
    "id": "2USMitJM_Hmn"
   },
   "outputs": [],
   "source": [
    "for i in range(16):\n",
    "    os.mkdir(str(i))"
   ]
  },
  {
   "cell_type": "code",
   "execution_count": 0,
   "metadata": {
    "colab": {},
    "colab_type": "code",
    "id": "_US7lqdw_JvM"
   },
   "outputs": [],
   "source": [
    "os.chdir(\"/content\")"
   ]
  },
  {
   "cell_type": "code",
   "execution_count": 0,
   "metadata": {
    "colab": {},
    "colab_type": "code",
    "id": "0TyPGvsS_Ljk"
   },
   "outputs": [],
   "source": [
    "for i in range(len(df)):\n",
    "    for j in range(16):\n",
    "        if df['class'][i]==j:\n",
    "            shutil.copy2('data/images/'+df['image'][i],'data/train/'+str(j) +'/')\n",
    "        else:\n",
    "            continue"
   ]
  },
  {
   "cell_type": "code",
   "execution_count": 0,
   "metadata": {
    "colab": {},
    "colab_type": "code",
    "id": "htPIrtIi_Oa8"
   },
   "outputs": [],
   "source": [
    "#Renaming folder names for train set\n",
    "class_name={'0':'letter','1':'form','2':'email','3':'handwritten','4':'advertisement','5':'scientific report','6':'scientific publication','7':'specification','8':'file folder','9':'news article','10':'budget','11':'invoice','12':'presentation','13':'questionnaire','14':'resume','15':'memo'}\n",
    "path = 'data/train'\n",
    "\n",
    "i = 0\n",
    "for j in class_name.keys():\n",
    "    os.rename(path+'/'+j, path+'/'+class_name[j])\n",
    "    i=i+1"
   ]
  },
  {
   "cell_type": "code",
   "execution_count": 15,
   "metadata": {
    "colab": {
     "base_uri": "https://localhost:8080/",
     "height": 285
    },
    "colab_type": "code",
    "id": "OrmFHihjFwif",
    "outputId": "f2dd8d07-4f9f-43ef-b327-9200e2f36fda"
   },
   "outputs": [
    {
     "data": {
      "text/plain": [
       "<matplotlib.axes._subplots.AxesSubplot at 0x7f84c8d24940>"
      ]
     },
     "execution_count": 15,
     "metadata": {
      "tags": []
     },
     "output_type": "execute_result"
    },
    {
     "data": {
      "image/png": "[encoded data removed]",
      "text/plain": [
       "<Figure size 432x288 with 1 Axes>"
      ]
     },
     "metadata": {
      "tags": []
     },
     "output_type": "display_data"
    }
   ],
   "source": [
    "df[\"class\"].value_counts().plot(kind='bar')"
   ]
  },
  {
   "cell_type": "markdown",
   "metadata": {
    "colab_type": "text",
    "id": "sysFSzmwF9Hj"
   },
   "source": [
    "From the above graph it can be seen that, the training examples are evenly distributed among respective classes. \"Accuarcy\"  as a metrics is well suited for this document image classification task."
   ]
  },
  {
   "cell_type": "code",
   "execution_count": 0,
   "metadata": {
    "colab": {},
    "colab_type": "code",
    "id": "ZWMS4UQ6On1e"
   },
   "outputs": [],
   "source": [
    "folders = glob.glob('data/train/*')"
   ]
  },
  {
   "cell_type": "code",
   "execution_count": 0,
   "metadata": {
    "colab": {},
    "colab_type": "code",
    "id": "Yw_eDGc6O1ud"
   },
   "outputs": [],
   "source": [
    "images_list=[]\n",
    "for i in folders:\n",
    "  for f in glob.glob(i+\"/*.tif\"):\n",
    "    images_list.append(f)"
   ]
  },
  {
   "cell_type": "code",
   "execution_count": 0,
   "metadata": {
    "colab": {},
    "colab_type": "code",
    "id": "Iq1ehtZ0QcOj"
   },
   "outputs": [],
   "source": [
    "read_images = []        \n",
    "\n",
    "for image in images_list[0:100]:\n",
    "    read_images.append(cv2.imread(image,cv2.IMREAD_GRAYSCALE))"
   ]
  },
  {
   "cell_type": "code",
   "execution_count": 78,
   "metadata": {
    "colab": {
     "base_uri": "https://localhost:8080/",
     "height": 884
    },
    "colab_type": "code",
    "id": "kLa6WpgDR1B7",
    "outputId": "54877914-ec49-4f76-f2d1-d9252f793efa"
   },
   "outputs": [
    {
     "data": {
      "text/plain": [
       "<matplotlib.image.AxesImage at 0x7f84b887aeb8>"
      ]
     },
     "execution_count": 78,
     "metadata": {
      "tags": []
     },
     "output_type": "execute_result"
    },
    {
     "data": {
      "image/png": "[encoded data removed]",
      "text/plain": [
       "<Figure size 1080x1080 with 1 Axes>"
      ]
     },
     "metadata": {
      "tags": []
     },
     "output_type": "display_data"
    }
   ],
   "source": [
    "plt.figure(figsize = (15,15))\n",
    "plt.imshow(read_images[0],cmap=\"gray\")"
   ]
  },
  {
   "cell_type": "code",
   "execution_count": 0,
   "metadata": {
    "colab": {},
    "colab_type": "code",
    "id": "OaaKfnD5SoZ2"
   },
   "outputs": [],
   "source": [
    "height = []\n",
    "width = []\n",
    "for image in images_list[0:100]:\n",
    "  img = cv2.imread(image,cv2.IMREAD_GRAYSCALE)\n",
    "  width.append(img.shape[1])\n",
    "  height.append(img.shape[0])"
   ]
  },
  {
   "cell_type": "code",
   "execution_count": 82,
   "metadata": {
    "colab": {
     "base_uri": "https://localhost:8080/",
     "height": 268
    },
    "colab_type": "code",
    "id": "PJuDTSjMTw_K",
    "outputId": "eb147ef9-e1bc-4b3f-bd69-0356c632cc74"
   },
   "outputs": [
    {
     "data": {
      "image/png": "[encoded data removed]",
      "text/plain": [
       "<Figure size 432x288 with 1 Axes>"
      ]
     },
     "metadata": {
      "tags": []
     },
     "output_type": "display_data"
    }
   ],
   "source": [
    "import seaborn as sns\n",
    "sns.set()\n",
    "sns.distplot(width,kde = True)\n",
    "plt.show()"
   ]
  },
  {
   "cell_type": "markdown",
   "metadata": {
    "colab_type": "text",
    "id": "HkWCh4cXUubg"
   },
   "source": [
    "From the above plot we see that width of the images varies. Also as per the information given about the dataset is that height of the images was kept to 1000 pixels only"
   ]
  }
 ],
 "metadata": {
  "accelerator": "GPU",
  "colab": {
   "collapsed_sections": [
    "b_3BU1RIAoha"
   ],
   "name": "EDA Document Image Classification.ipynb",
   "provenance": []
  },
  "kernelspec": {
   "display_name": "Python 3",
   "language": "python",
   "name": "python3"
  },
  "language_info": {
   "codemirror_mode": {
    "name": "ipython",
    "version": 3
   },
   "file_extension": ".py",
   "mimetype": "text/x-python",
   "name": "python",
   "nbconvert_exporter": "python",
   "pygments_lexer": "ipython3",
   "version": "3.6.5"
  }
 },
 "nbformat": 4,
 "nbformat_minor": 1
}
